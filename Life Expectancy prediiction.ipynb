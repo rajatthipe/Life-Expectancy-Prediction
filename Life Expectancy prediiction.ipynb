{
 "cells": [
  {
   "cell_type": "code",
   "execution_count": 1,
   "id": "39d9b675-5986-4681-b2d4-de95f04adf25",
   "metadata": {},
   "outputs": [],
   "source": [
    "import pandas as pd \n",
    "import numpy as np"
   ]
  },
  {
   "cell_type": "code",
   "execution_count": 2,
   "id": "2a633325-7bf5-40ab-a3bd-ceee6aad515a",
   "metadata": {},
   "outputs": [
    {
     "data": {
      "text/html": [
       "<div>\n",
       "<style scoped>\n",
       "    .dataframe tbody tr th:only-of-type {\n",
       "        vertical-align: middle;\n",
       "    }\n",
       "\n",
       "    .dataframe tbody tr th {\n",
       "        vertical-align: top;\n",
       "    }\n",
       "\n",
       "    .dataframe thead th {\n",
       "        text-align: right;\n",
       "    }\n",
       "</style>\n",
       "<table border=\"1\" class=\"dataframe\">\n",
       "  <thead>\n",
       "    <tr style=\"text-align: right;\">\n",
       "      <th></th>\n",
       "      <th>Country</th>\n",
       "      <th>Region</th>\n",
       "      <th>Year</th>\n",
       "      <th>Infant_deaths</th>\n",
       "      <th>Under_five_deaths</th>\n",
       "      <th>Adult_mortality</th>\n",
       "      <th>Alcohol_consumption</th>\n",
       "      <th>Hepatitis_B</th>\n",
       "      <th>Measles</th>\n",
       "      <th>BMI</th>\n",
       "      <th>Polio</th>\n",
       "      <th>Diphtheria</th>\n",
       "      <th>Incidents_HIV</th>\n",
       "      <th>GDP_per_capita</th>\n",
       "      <th>Population_mln</th>\n",
       "      <th>Thinness_ten_nineteen_years</th>\n",
       "      <th>Thinness_five_nine_years</th>\n",
       "      <th>Schooling</th>\n",
       "      <th>Economy_status</th>\n",
       "      <th>Life_expectancy</th>\n",
       "    </tr>\n",
       "  </thead>\n",
       "  <tbody>\n",
       "    <tr>\n",
       "      <th>0</th>\n",
       "      <td>Afghanistan</td>\n",
       "      <td>Asia</td>\n",
       "      <td>2007.5</td>\n",
       "      <td>71.08125</td>\n",
       "      <td>98.61250</td>\n",
       "      <td>265.804969</td>\n",
       "      <td>0.016125</td>\n",
       "      <td>64.5625</td>\n",
       "      <td>24.3750</td>\n",
       "      <td>22.46250</td>\n",
       "      <td>55.3750</td>\n",
       "      <td>55.1250</td>\n",
       "      <td>0.022500</td>\n",
       "      <td>408.5625</td>\n",
       "      <td>27.450625</td>\n",
       "      <td>16.58125</td>\n",
       "      <td>15.58125</td>\n",
       "      <td>2.90000</td>\n",
       "      <td>1.0</td>\n",
       "      <td>59.65625</td>\n",
       "    </tr>\n",
       "    <tr>\n",
       "      <th>1</th>\n",
       "      <td>Albania</td>\n",
       "      <td>Rest of Europe</td>\n",
       "      <td>2007.5</td>\n",
       "      <td>15.25625</td>\n",
       "      <td>17.14375</td>\n",
       "      <td>83.132969</td>\n",
       "      <td>4.696875</td>\n",
       "      <td>98.0000</td>\n",
       "      <td>95.9375</td>\n",
       "      <td>25.85625</td>\n",
       "      <td>98.1250</td>\n",
       "      <td>98.0625</td>\n",
       "      <td>0.025625</td>\n",
       "      <td>3071.1250</td>\n",
       "      <td>2.969375</td>\n",
       "      <td>1.61875</td>\n",
       "      <td>1.70000</td>\n",
       "      <td>9.24375</td>\n",
       "      <td>1.0</td>\n",
       "      <td>75.95000</td>\n",
       "    </tr>\n",
       "    <tr>\n",
       "      <th>2</th>\n",
       "      <td>Algeria</td>\n",
       "      <td>Africa</td>\n",
       "      <td>2007.5</td>\n",
       "      <td>26.75625</td>\n",
       "      <td>31.19375</td>\n",
       "      <td>113.439281</td>\n",
       "      <td>0.400625</td>\n",
       "      <td>88.3125</td>\n",
       "      <td>93.2500</td>\n",
       "      <td>24.86875</td>\n",
       "      <td>91.7500</td>\n",
       "      <td>91.8750</td>\n",
       "      <td>0.021875</td>\n",
       "      <td>3745.1250</td>\n",
       "      <td>34.820625</td>\n",
       "      <td>6.09375</td>\n",
       "      <td>5.97500</td>\n",
       "      <td>6.99375</td>\n",
       "      <td>1.0</td>\n",
       "      <td>73.78750</td>\n",
       "    </tr>\n",
       "    <tr>\n",
       "      <th>3</th>\n",
       "      <td>Angola</td>\n",
       "      <td>Africa</td>\n",
       "      <td>2007.5</td>\n",
       "      <td>88.76875</td>\n",
       "      <td>144.16250</td>\n",
       "      <td>297.844063</td>\n",
       "      <td>4.935625</td>\n",
       "      <td>68.8125</td>\n",
       "      <td>64.0000</td>\n",
       "      <td>22.51875</td>\n",
       "      <td>35.7500</td>\n",
       "      <td>55.5625</td>\n",
       "      <td>1.303750</td>\n",
       "      <td>2647.8125</td>\n",
       "      <td>21.623750</td>\n",
       "      <td>6.19375</td>\n",
       "      <td>6.66875</td>\n",
       "      <td>4.60625</td>\n",
       "      <td>1.0</td>\n",
       "      <td>52.82500</td>\n",
       "    </tr>\n",
       "    <tr>\n",
       "      <th>4</th>\n",
       "      <td>Antigua and Barbuda</td>\n",
       "      <td>Central America and Caribbean</td>\n",
       "      <td>2007.5</td>\n",
       "      <td>9.47500</td>\n",
       "      <td>11.51875</td>\n",
       "      <td>142.478813</td>\n",
       "      <td>7.755000</td>\n",
       "      <td>98.2500</td>\n",
       "      <td>75.4375</td>\n",
       "      <td>25.85000</td>\n",
       "      <td>96.9375</td>\n",
       "      <td>98.3125</td>\n",
       "      <td>0.125000</td>\n",
       "      <td>14678.7500</td>\n",
       "      <td>0.085000</td>\n",
       "      <td>3.42500</td>\n",
       "      <td>3.37500</td>\n",
       "      <td>9.01875</td>\n",
       "      <td>1.0</td>\n",
       "      <td>75.35000</td>\n",
       "    </tr>\n",
       "  </tbody>\n",
       "</table>\n",
       "</div>"
      ],
      "text/plain": [
       "               Country                         Region    Year  Infant_deaths  \\\n",
       "0          Afghanistan                           Asia  2007.5       71.08125   \n",
       "1              Albania                 Rest of Europe  2007.5       15.25625   \n",
       "2              Algeria                         Africa  2007.5       26.75625   \n",
       "3               Angola                         Africa  2007.5       88.76875   \n",
       "4  Antigua and Barbuda  Central America and Caribbean  2007.5        9.47500   \n",
       "\n",
       "   Under_five_deaths  Adult_mortality  Alcohol_consumption  Hepatitis_B  \\\n",
       "0           98.61250       265.804969             0.016125      64.5625   \n",
       "1           17.14375        83.132969             4.696875      98.0000   \n",
       "2           31.19375       113.439281             0.400625      88.3125   \n",
       "3          144.16250       297.844063             4.935625      68.8125   \n",
       "4           11.51875       142.478813             7.755000      98.2500   \n",
       "\n",
       "   Measles       BMI    Polio  Diphtheria  Incidents_HIV  GDP_per_capita  \\\n",
       "0  24.3750  22.46250  55.3750     55.1250       0.022500        408.5625   \n",
       "1  95.9375  25.85625  98.1250     98.0625       0.025625       3071.1250   \n",
       "2  93.2500  24.86875  91.7500     91.8750       0.021875       3745.1250   \n",
       "3  64.0000  22.51875  35.7500     55.5625       1.303750       2647.8125   \n",
       "4  75.4375  25.85000  96.9375     98.3125       0.125000      14678.7500   \n",
       "\n",
       "   Population_mln  Thinness_ten_nineteen_years  Thinness_five_nine_years  \\\n",
       "0       27.450625                     16.58125                  15.58125   \n",
       "1        2.969375                      1.61875                   1.70000   \n",
       "2       34.820625                      6.09375                   5.97500   \n",
       "3       21.623750                      6.19375                   6.66875   \n",
       "4        0.085000                      3.42500                   3.37500   \n",
       "\n",
       "   Schooling  Economy_status  Life_expectancy  \n",
       "0    2.90000             1.0         59.65625  \n",
       "1    9.24375             1.0         75.95000  \n",
       "2    6.99375             1.0         73.78750  \n",
       "3    4.60625             1.0         52.82500  \n",
       "4    9.01875             1.0         75.35000  "
      ]
     },
     "execution_count": 2,
     "metadata": {},
     "output_type": "execute_result"
    }
   ],
   "source": [
    "df = pd.read_csv(r\"D:\\archive (7)\\Life-Expectancy-Data-Averaged.csv\")\n",
    "df.head()"
   ]
  },
  {
   "cell_type": "code",
   "execution_count": 3,
   "id": "3c3375a9-271a-4145-8a5f-31750fab8d28",
   "metadata": {},
   "outputs": [
    {
     "data": {
      "text/plain": [
       "Country                        0\n",
       "Region                         0\n",
       "Year                           0\n",
       "Infant_deaths                  0\n",
       "Under_five_deaths              0\n",
       "Adult_mortality                0\n",
       "Alcohol_consumption            0\n",
       "Hepatitis_B                    0\n",
       "Measles                        0\n",
       "BMI                            0\n",
       "Polio                          0\n",
       "Diphtheria                     0\n",
       "Incidents_HIV                  0\n",
       "GDP_per_capita                 0\n",
       "Population_mln                 0\n",
       "Thinness_ten_nineteen_years    0\n",
       "Thinness_five_nine_years       0\n",
       "Schooling                      0\n",
       "Economy_status                 0\n",
       "Life_expectancy                0\n",
       "dtype: int64"
      ]
     },
     "execution_count": 3,
     "metadata": {},
     "output_type": "execute_result"
    }
   ],
   "source": [
    "df.isna().sum()"
   ]
  },
  {
   "cell_type": "code",
   "execution_count": 4,
   "id": "dc101b62-f63d-4102-949c-cb456c3ce987",
   "metadata": {},
   "outputs": [],
   "source": [
    "import seaborn as sns"
   ]
  },
  {
   "cell_type": "code",
   "execution_count": 5,
   "id": "8c007a9f-0a26-43a9-b7c3-dd5a0a7bef95",
   "metadata": {},
   "outputs": [
    {
     "data": {
      "text/plain": [
       "<Axes: >"
      ]
     },
     "execution_count": 5,
     "metadata": {},
     "output_type": "execute_result"
    },
    {
     "data": {
      "image/png": "[encoded data removed]",
      "text/plain": [
       "<Figure size 640x480 with 1 Axes>"
      ]
     },
     "metadata": {},
     "output_type": "display_data"
    }
   ],
   "source": [
    "sns.boxplot(df)"
   ]
  },
  {
   "cell_type": "markdown",
   "id": "ca7d37de-312d-48ed-9450-23d61e2ec684",
   "metadata": {},
   "source": [
    "## Treating outliers using winzorizing teechnique"
   ]
  },
  {
   "cell_type": "code",
   "execution_count": 6,
   "id": "35eff6f8-edb1-4e02-9534-6bc630115aca",
   "metadata": {},
   "outputs": [
    {
     "name": "stdout",
     "output_type": "stream",
     "text": [
      "<class 'pandas.core.frame.DataFrame'>\n",
      "RangeIndex: 179 entries, 0 to 178\n",
      "Data columns (total 20 columns):\n",
      " #   Column                       Non-Null Count  Dtype  \n",
      "---  ------                       --------------  -----  \n",
      " 0   Country                      179 non-null    object \n",
      " 1   Region                       179 non-null    object \n",
      " 2   Year                         179 non-null    float64\n",
      " 3   Infant_deaths                179 non-null    float64\n",
      " 4   Under_five_deaths            179 non-null    float64\n",
      " 5   Adult_mortality              179 non-null    float64\n",
      " 6   Alcohol_consumption          179 non-null    float64\n",
      " 7   Hepatitis_B                  179 non-null    float64\n",
      " 8   Measles                      179 non-null    float64\n",
      " 9   BMI                          179 non-null    float64\n",
      " 10  Polio                        179 non-null    float64\n",
      " 11  Diphtheria                   179 non-null    float64\n",
      " 12  Incidents_HIV                179 non-null    float64\n",
      " 13  GDP_per_capita               179 non-null    float64\n",
      " 14  Population_mln               179 non-null    float64\n",
      " 15  Thinness_ten_nineteen_years  179 non-null    float64\n",
      " 16  Thinness_five_nine_years     179 non-null    float64\n",
      " 17  Schooling                    179 non-null    float64\n",
      " 18  Economy_status               179 non-null    float64\n",
      " 19  Life_expectancy              179 non-null    float64\n",
      "dtypes: float64(18), object(2)\n",
      "memory usage: 28.1+ KB\n"
     ]
    }
   ],
   "source": [
    "df.info()"
   ]
  },
  {
   "cell_type": "code",
   "execution_count": 8,
   "id": "18c4b7e0-a695-48e1-bdbb-5ca6bba0abbc",
   "metadata": {},
   "outputs": [],
   "source": [
    "for i in df:\n",
    "    if df[i].dtype in ('float64','int64'):\n",
    "        q1 = df[i].quantile(0.25)\n",
    "        q3 = df[i].quantile(0.75)\n",
    "        iqr = q3 - q1\n",
    "        ll = q1 - 1.5*iqr\n",
    "        ul = q3 + 1.5*iqr\n",
    "        df[i].clip(lower = ll, upper = ul, inplace = True)"
   ]
  },
  {
   "cell_type": "code",
   "execution_count": 9,
   "id": "7370c322-165b-4ce1-9bda-1601b18a23ee",
   "metadata": {},
   "outputs": [
    {
     "data": {
      "text/plain": [
       "<Axes: >"
      ]
     },
     "execution_count": 9,
     "metadata": {},
     "output_type": "execute_result"
    },
    {
     "data": {
      "image/png": "[encoded data removed]",
      "text/plain": [
       "<Figure size 640x480 with 1 Axes>"
      ]
     },
     "metadata": {},
     "output_type": "display_data"
    }
   ],
   "source": [
    "sns.boxplot(df)"
   ]
  },
  {
   "cell_type": "markdown",
   "id": "11557255-bdf1-4cff-b1cc-8e1ca0f0afa0",
   "metadata": {},
   "source": [
    "# Data Partation"
   ]
  },
  {
   "cell_type": "code",
   "execution_count": 10,
   "id": "d98f0f01-978b-40aa-b0e1-5b172d81148a",
   "metadata": {},
   "outputs": [],
   "source": [
    "from sklearn.model_selection import train_test_split"
   ]
  },
  {
   "cell_type": "code",
   "execution_count": 33,
   "id": "255b898d-b02c-488d-8db5-b28e03c97b3d",
   "metadata": {},
   "outputs": [],
   "source": [
    "a = df.drop(['Country','Region','Year','Economy_status','Under_five_deaths','Adult_mortality','GDP_per_capita','Population_mln','Thinness_ten_nineteen_years','Thinness_five_nine_years','Schooling'],axis =1)"
   ]
  },
  {
   "cell_type": "code",
   "execution_count": 34,
   "id": "8566ead5-40de-421f-a857-1f3e9b2afcca",
   "metadata": {},
   "outputs": [],
   "source": [
    "x = a.drop('Life_expectancy', axis = 1)\n",
    "y = a[['Life_expectancy']]"
   ]
  },
  {
   "cell_type": "code",
   "execution_count": 35,
   "id": "15e9ca4d-5dd1-41ba-a113-b30dc9f75313",
   "metadata": {},
   "outputs": [],
   "source": [
    "x_train ,x_test , y_train, y_test = train_test_split(x, y , train_size = 0.7, random_state = 20)"
   ]
  },
  {
   "cell_type": "code",
   "execution_count": 36,
   "id": "80968e20-cd39-4616-b141-90f28717bce1",
   "metadata": {},
   "outputs": [
    {
     "data": {
      "text/html": [
       "<div>\n",
       "<style scoped>\n",
       "    .dataframe tbody tr th:only-of-type {\n",
       "        vertical-align: middle;\n",
       "    }\n",
       "\n",
       "    .dataframe tbody tr th {\n",
       "        vertical-align: top;\n",
       "    }\n",
       "\n",
       "    .dataframe thead th {\n",
       "        text-align: right;\n",
       "    }\n",
       "</style>\n",
       "<table border=\"1\" class=\"dataframe\">\n",
       "  <thead>\n",
       "    <tr style=\"text-align: right;\">\n",
       "      <th></th>\n",
       "      <th>Infant_deaths</th>\n",
       "      <th>Alcohol_consumption</th>\n",
       "      <th>Hepatitis_B</th>\n",
       "      <th>Measles</th>\n",
       "      <th>BMI</th>\n",
       "      <th>Polio</th>\n",
       "      <th>Diphtheria</th>\n",
       "      <th>Incidents_HIV</th>\n",
       "      <th>Life_expectancy</th>\n",
       "    </tr>\n",
       "  </thead>\n",
       "  <tbody>\n",
       "    <tr>\n",
       "      <th>132</th>\n",
       "      <td>12.90625</td>\n",
       "      <td>10.583750</td>\n",
       "      <td>96.875000</td>\n",
       "      <td>92.875</td>\n",
       "      <td>25.71875</td>\n",
       "      <td>94.750000</td>\n",
       "      <td>95.000000</td>\n",
       "      <td>0.043125</td>\n",
       "      <td>72.88125</td>\n",
       "    </tr>\n",
       "    <tr>\n",
       "      <th>147</th>\n",
       "      <td>40.80625</td>\n",
       "      <td>7.313125</td>\n",
       "      <td>75.437500</td>\n",
       "      <td>53.625</td>\n",
       "      <td>26.72500</td>\n",
       "      <td>75.062500</td>\n",
       "      <td>74.125000</td>\n",
       "      <td>1.170625</td>\n",
       "      <td>56.78125</td>\n",
       "    </tr>\n",
       "    <tr>\n",
       "      <th>146</th>\n",
       "      <td>98.25625</td>\n",
       "      <td>0.000025</td>\n",
       "      <td>53.984375</td>\n",
       "      <td>64.000</td>\n",
       "      <td>22.62500</td>\n",
       "      <td>57.234375</td>\n",
       "      <td>58.359375</td>\n",
       "      <td>0.130000</td>\n",
       "      <td>53.24375</td>\n",
       "    </tr>\n",
       "    <tr>\n",
       "      <th>130</th>\n",
       "      <td>3.63750</td>\n",
       "      <td>11.413125</td>\n",
       "      <td>91.562500</td>\n",
       "      <td>85.000</td>\n",
       "      <td>25.72500</td>\n",
       "      <td>96.500000</td>\n",
       "      <td>97.000000</td>\n",
       "      <td>0.172500</td>\n",
       "      <td>78.74375</td>\n",
       "    </tr>\n",
       "    <tr>\n",
       "      <th>37</th>\n",
       "      <td>89.48125</td>\n",
       "      <td>3.206250</td>\n",
       "      <td>70.875000</td>\n",
       "      <td>64.000</td>\n",
       "      <td>21.34375</td>\n",
       "      <td>62.937500</td>\n",
       "      <td>61.000000</td>\n",
       "      <td>0.673125</td>\n",
       "      <td>55.06875</td>\n",
       "    </tr>\n",
       "  </tbody>\n",
       "</table>\n",
       "</div>"
      ],
      "text/plain": [
       "     Infant_deaths  Alcohol_consumption  Hepatitis_B  Measles       BMI  \\\n",
       "132       12.90625            10.583750    96.875000   92.875  25.71875   \n",
       "147       40.80625             7.313125    75.437500   53.625  26.72500   \n",
       "146       98.25625             0.000025    53.984375   64.000  22.62500   \n",
       "130        3.63750            11.413125    91.562500   85.000  25.72500   \n",
       "37        89.48125             3.206250    70.875000   64.000  21.34375   \n",
       "\n",
       "         Polio  Diphtheria  Incidents_HIV  Life_expectancy  \n",
       "132  94.750000   95.000000       0.043125         72.88125  \n",
       "147  75.062500   74.125000       1.170625         56.78125  \n",
       "146  57.234375   58.359375       0.130000         53.24375  \n",
       "130  96.500000   97.000000       0.172500         78.74375  \n",
       "37   62.937500   61.000000       0.673125         55.06875  "
      ]
     },
     "execution_count": 36,
     "metadata": {},
     "output_type": "execute_result"
    }
   ],
   "source": [
    "train = pd.concat([x_train, y_train], axis =1)\n",
    "train.head()"
   ]
  },
  {
   "cell_type": "code",
   "execution_count": 37,
   "id": "471bbde4-e6dd-48a2-a6ee-3c03744c069d",
   "metadata": {},
   "outputs": [],
   "source": [
    "correlation = train.corr()"
   ]
  },
  {
   "cell_type": "code",
   "execution_count": 38,
   "id": "ea0d61ed-571b-4337-921b-566b003f4ba6",
   "metadata": {},
   "outputs": [
    {
     "name": "stderr",
     "output_type": "stream",
     "text": [
      "C:\\Users\\rajat\\AppData\\Local\\Temp\\ipykernel_8544\\2104189097.py:1: FutureWarning: Styler.applymap has been deprecated. Use Styler.map instead.\n",
      "  correlation.style.applymap(lambda x: 'background-color : yellow' if x > 0.7 else '')\n"
     ]
    },
    {
     "data": {
      "text/html": [
       "<style type=\"text/css\">\n",
       "#T_8acf7_row0_col0, #T_8acf7_row1_col1, #T_8acf7_row2_col2, #T_8acf7_row2_col5, #T_8acf7_row2_col6, #T_8acf7_row3_col3, #T_8acf7_row4_col4, #T_8acf7_row5_col2, #T_8acf7_row5_col5, #T_8acf7_row5_col6, #T_8acf7_row5_col8, #T_8acf7_row6_col2, #T_8acf7_row6_col5, #T_8acf7_row6_col6, #T_8acf7_row7_col7, #T_8acf7_row8_col5, #T_8acf7_row8_col8 {\n",
       "  background-color: yellow;\n",
       "}\n",
       "</style>\n",
       "<table id=\"T_8acf7\">\n",
       "  <thead>\n",
       "    <tr>\n",
       "      <th class=\"blank level0\" >&nbsp;</th>\n",
       "      <th id=\"T_8acf7_level0_col0\" class=\"col_heading level0 col0\" >Infant_deaths</th>\n",
       "      <th id=\"T_8acf7_level0_col1\" class=\"col_heading level0 col1\" >Alcohol_consumption</th>\n",
       "      <th id=\"T_8acf7_level0_col2\" class=\"col_heading level0 col2\" >Hepatitis_B</th>\n",
       "      <th id=\"T_8acf7_level0_col3\" class=\"col_heading level0 col3\" >Measles</th>\n",
       "      <th id=\"T_8acf7_level0_col4\" class=\"col_heading level0 col4\" >BMI</th>\n",
       "      <th id=\"T_8acf7_level0_col5\" class=\"col_heading level0 col5\" >Polio</th>\n",
       "      <th id=\"T_8acf7_level0_col6\" class=\"col_heading level0 col6\" >Diphtheria</th>\n",
       "      <th id=\"T_8acf7_level0_col7\" class=\"col_heading level0 col7\" >Incidents_HIV</th>\n",
       "      <th id=\"T_8acf7_level0_col8\" class=\"col_heading level0 col8\" >Life_expectancy</th>\n",
       "    </tr>\n",
       "  </thead>\n",
       "  <tbody>\n",
       "    <tr>\n",
       "      <th id=\"T_8acf7_level0_row0\" class=\"row_heading level0 row0\" >Infant_deaths</th>\n",
       "      <td id=\"T_8acf7_row0_col0\" class=\"data row0 col0\" >1.000000</td>\n",
       "      <td id=\"T_8acf7_row0_col1\" class=\"data row0 col1\" >-0.458621</td>\n",
       "      <td id=\"T_8acf7_row0_col2\" class=\"data row0 col2\" >-0.577088</td>\n",
       "      <td id=\"T_8acf7_row0_col3\" class=\"data row0 col3\" >-0.588920</td>\n",
       "      <td id=\"T_8acf7_row0_col4\" class=\"data row0 col4\" >-0.666783</td>\n",
       "      <td id=\"T_8acf7_row0_col5\" class=\"data row0 col5\" >-0.798232</td>\n",
       "      <td id=\"T_8acf7_row0_col6\" class=\"data row0 col6\" >-0.770244</td>\n",
       "      <td id=\"T_8acf7_row0_col7\" class=\"data row0 col7\" >0.643316</td>\n",
       "      <td id=\"T_8acf7_row0_col8\" class=\"data row0 col8\" >-0.929315</td>\n",
       "    </tr>\n",
       "    <tr>\n",
       "      <th id=\"T_8acf7_level0_row1\" class=\"row_heading level0 row1\" >Alcohol_consumption</th>\n",
       "      <td id=\"T_8acf7_row1_col0\" class=\"data row1 col0\" >-0.458621</td>\n",
       "      <td id=\"T_8acf7_row1_col1\" class=\"data row1 col1\" >1.000000</td>\n",
       "      <td id=\"T_8acf7_row1_col2\" class=\"data row1 col2\" >0.183872</td>\n",
       "      <td id=\"T_8acf7_row1_col3\" class=\"data row1 col3\" >0.301846</td>\n",
       "      <td id=\"T_8acf7_row1_col4\" class=\"data row1 col4\" >0.224657</td>\n",
       "      <td id=\"T_8acf7_row1_col5\" class=\"data row1 col5\" >0.332930</td>\n",
       "      <td id=\"T_8acf7_row1_col6\" class=\"data row1 col6\" >0.341114</td>\n",
       "      <td id=\"T_8acf7_row1_col7\" class=\"data row1 col7\" >-0.144182</td>\n",
       "      <td id=\"T_8acf7_row1_col8\" class=\"data row1 col8\" >0.418713</td>\n",
       "    </tr>\n",
       "    <tr>\n",
       "      <th id=\"T_8acf7_level0_row2\" class=\"row_heading level0 row2\" >Hepatitis_B</th>\n",
       "      <td id=\"T_8acf7_row2_col0\" class=\"data row2 col0\" >-0.577088</td>\n",
       "      <td id=\"T_8acf7_row2_col1\" class=\"data row2 col1\" >0.183872</td>\n",
       "      <td id=\"T_8acf7_row2_col2\" class=\"data row2 col2\" >1.000000</td>\n",
       "      <td id=\"T_8acf7_row2_col3\" class=\"data row2 col3\" >0.533971</td>\n",
       "      <td id=\"T_8acf7_row2_col4\" class=\"data row2 col4\" >0.380943</td>\n",
       "      <td id=\"T_8acf7_row2_col5\" class=\"data row2 col5\" >0.825136</td>\n",
       "      <td id=\"T_8acf7_row2_col6\" class=\"data row2 col6\" >0.845785</td>\n",
       "      <td id=\"T_8acf7_row2_col7\" class=\"data row2 col7\" >-0.283010</td>\n",
       "      <td id=\"T_8acf7_row2_col8\" class=\"data row2 col8\" >0.469202</td>\n",
       "    </tr>\n",
       "    <tr>\n",
       "      <th id=\"T_8acf7_level0_row3\" class=\"row_heading level0 row3\" >Measles</th>\n",
       "      <td id=\"T_8acf7_row3_col0\" class=\"data row3 col0\" >-0.588920</td>\n",
       "      <td id=\"T_8acf7_row3_col1\" class=\"data row3 col1\" >0.301846</td>\n",
       "      <td id=\"T_8acf7_row3_col2\" class=\"data row3 col2\" >0.533971</td>\n",
       "      <td id=\"T_8acf7_row3_col3\" class=\"data row3 col3\" >1.000000</td>\n",
       "      <td id=\"T_8acf7_row3_col4\" class=\"data row3 col4\" >0.421925</td>\n",
       "      <td id=\"T_8acf7_row3_col5\" class=\"data row3 col5\" >0.645208</td>\n",
       "      <td id=\"T_8acf7_row3_col6\" class=\"data row3 col6\" >0.614445</td>\n",
       "      <td id=\"T_8acf7_row3_col7\" class=\"data row3 col7\" >-0.405588</td>\n",
       "      <td id=\"T_8acf7_row3_col8\" class=\"data row3 col8\" >0.551728</td>\n",
       "    </tr>\n",
       "    <tr>\n",
       "      <th id=\"T_8acf7_level0_row4\" class=\"row_heading level0 row4\" >BMI</th>\n",
       "      <td id=\"T_8acf7_row4_col0\" class=\"data row4 col0\" >-0.666783</td>\n",
       "      <td id=\"T_8acf7_row4_col1\" class=\"data row4 col1\" >0.224657</td>\n",
       "      <td id=\"T_8acf7_row4_col2\" class=\"data row4 col2\" >0.380943</td>\n",
       "      <td id=\"T_8acf7_row4_col3\" class=\"data row4 col3\" >0.421925</td>\n",
       "      <td id=\"T_8acf7_row4_col4\" class=\"data row4 col4\" >1.000000</td>\n",
       "      <td id=\"T_8acf7_row4_col5\" class=\"data row4 col5\" >0.500737</td>\n",
       "      <td id=\"T_8acf7_row4_col6\" class=\"data row4 col6\" >0.439897</td>\n",
       "      <td id=\"T_8acf7_row4_col7\" class=\"data row4 col7\" >-0.429164</td>\n",
       "      <td id=\"T_8acf7_row4_col8\" class=\"data row4 col8\" >0.605648</td>\n",
       "    </tr>\n",
       "    <tr>\n",
       "      <th id=\"T_8acf7_level0_row5\" class=\"row_heading level0 row5\" >Polio</th>\n",
       "      <td id=\"T_8acf7_row5_col0\" class=\"data row5 col0\" >-0.798232</td>\n",
       "      <td id=\"T_8acf7_row5_col1\" class=\"data row5 col1\" >0.332930</td>\n",
       "      <td id=\"T_8acf7_row5_col2\" class=\"data row5 col2\" >0.825136</td>\n",
       "      <td id=\"T_8acf7_row5_col3\" class=\"data row5 col3\" >0.645208</td>\n",
       "      <td id=\"T_8acf7_row5_col4\" class=\"data row5 col4\" >0.500737</td>\n",
       "      <td id=\"T_8acf7_row5_col5\" class=\"data row5 col5\" >1.000000</td>\n",
       "      <td id=\"T_8acf7_row5_col6\" class=\"data row5 col6\" >0.982195</td>\n",
       "      <td id=\"T_8acf7_row5_col7\" class=\"data row5 col7\" >-0.455871</td>\n",
       "      <td id=\"T_8acf7_row5_col8\" class=\"data row5 col8\" >0.701310</td>\n",
       "    </tr>\n",
       "    <tr>\n",
       "      <th id=\"T_8acf7_level0_row6\" class=\"row_heading level0 row6\" >Diphtheria</th>\n",
       "      <td id=\"T_8acf7_row6_col0\" class=\"data row6 col0\" >-0.770244</td>\n",
       "      <td id=\"T_8acf7_row6_col1\" class=\"data row6 col1\" >0.341114</td>\n",
       "      <td id=\"T_8acf7_row6_col2\" class=\"data row6 col2\" >0.845785</td>\n",
       "      <td id=\"T_8acf7_row6_col3\" class=\"data row6 col3\" >0.614445</td>\n",
       "      <td id=\"T_8acf7_row6_col4\" class=\"data row6 col4\" >0.439897</td>\n",
       "      <td id=\"T_8acf7_row6_col5\" class=\"data row6 col5\" >0.982195</td>\n",
       "      <td id=\"T_8acf7_row6_col6\" class=\"data row6 col6\" >1.000000</td>\n",
       "      <td id=\"T_8acf7_row6_col7\" class=\"data row6 col7\" >-0.443188</td>\n",
       "      <td id=\"T_8acf7_row6_col8\" class=\"data row6 col8\" >0.685429</td>\n",
       "    </tr>\n",
       "    <tr>\n",
       "      <th id=\"T_8acf7_level0_row7\" class=\"row_heading level0 row7\" >Incidents_HIV</th>\n",
       "      <td id=\"T_8acf7_row7_col0\" class=\"data row7 col0\" >0.643316</td>\n",
       "      <td id=\"T_8acf7_row7_col1\" class=\"data row7 col1\" >-0.144182</td>\n",
       "      <td id=\"T_8acf7_row7_col2\" class=\"data row7 col2\" >-0.283010</td>\n",
       "      <td id=\"T_8acf7_row7_col3\" class=\"data row7 col3\" >-0.405588</td>\n",
       "      <td id=\"T_8acf7_row7_col4\" class=\"data row7 col4\" >-0.429164</td>\n",
       "      <td id=\"T_8acf7_row7_col5\" class=\"data row7 col5\" >-0.455871</td>\n",
       "      <td id=\"T_8acf7_row7_col6\" class=\"data row7 col6\" >-0.443188</td>\n",
       "      <td id=\"T_8acf7_row7_col7\" class=\"data row7 col7\" >1.000000</td>\n",
       "      <td id=\"T_8acf7_row7_col8\" class=\"data row7 col8\" >-0.753225</td>\n",
       "    </tr>\n",
       "    <tr>\n",
       "      <th id=\"T_8acf7_level0_row8\" class=\"row_heading level0 row8\" >Life_expectancy</th>\n",
       "      <td id=\"T_8acf7_row8_col0\" class=\"data row8 col0\" >-0.929315</td>\n",
       "      <td id=\"T_8acf7_row8_col1\" class=\"data row8 col1\" >0.418713</td>\n",
       "      <td id=\"T_8acf7_row8_col2\" class=\"data row8 col2\" >0.469202</td>\n",
       "      <td id=\"T_8acf7_row8_col3\" class=\"data row8 col3\" >0.551728</td>\n",
       "      <td id=\"T_8acf7_row8_col4\" class=\"data row8 col4\" >0.605648</td>\n",
       "      <td id=\"T_8acf7_row8_col5\" class=\"data row8 col5\" >0.701310</td>\n",
       "      <td id=\"T_8acf7_row8_col6\" class=\"data row8 col6\" >0.685429</td>\n",
       "      <td id=\"T_8acf7_row8_col7\" class=\"data row8 col7\" >-0.753225</td>\n",
       "      <td id=\"T_8acf7_row8_col8\" class=\"data row8 col8\" >1.000000</td>\n",
       "    </tr>\n",
       "  </tbody>\n",
       "</table>\n"
      ],
      "text/plain": [
       "<pandas.io.formats.style.Styler at 0x1b16cf38f90>"
      ]
     },
     "execution_count": 38,
     "metadata": {},
     "output_type": "execute_result"
    }
   ],
   "source": [
    "correlation.style.applymap(lambda x: 'background-color : yellow' if x > 0.7 else '')"
   ]
  },
  {
   "cell_type": "markdown",
   "id": "34b34b27-fef1-453c-8b5d-1a632a54e13c",
   "metadata": {},
   "source": [
    "## Multi-Colinearity is present"
   ]
  },
  {
   "cell_type": "code",
   "execution_count": 39,
   "id": "7ec67a8c-0643-43a9-b9cf-dba07e948924",
   "metadata": {},
   "outputs": [
    {
     "data": {
      "text/plain": [
       "<Axes: >"
      ]
     },
     "execution_count": 39,
     "metadata": {},
     "output_type": "execute_result"
    },
    {
     "data": {
      "image/png": "[encoded data removed]",
      "text/plain": [
       "<Figure size 640x480 with 2 Axes>"
      ]
     },
     "metadata": {},
     "output_type": "display_data"
    }
   ],
   "source": [
    "sns.heatmap(correlation)"
   ]
  },
  {
   "cell_type": "markdown",
   "id": "572597ec-8eba-4cea-8356-e8e3007291cb",
   "metadata": {},
   "source": [
    "## Varience Inflation factor"
   ]
  },
  {
   "cell_type": "code",
   "execution_count": 40,
   "id": "0029c9ae-c13d-44bd-812f-df30312b1aa1",
   "metadata": {},
   "outputs": [
    {
     "data": {
      "text/plain": [
       "Infant_deaths             5.374239\n",
       "Alcohol_consumption       3.700617\n",
       "Hepatitis_B             182.535675\n",
       "Measles                  37.470908\n",
       "BMI                      97.388978\n",
       "Polio                  1910.885101\n",
       "Diphtheria             1939.523458\n",
       "Incidents_HIV             3.497574\n",
       "dtype: float64"
      ]
     },
     "execution_count": 40,
     "metadata": {},
     "output_type": "execute_result"
    }
   ],
   "source": [
    "from statsmodels.stats.outliers_influence import variance_inflation_factor\n",
    "X1 = a.drop(['Life_expectancy'],axis=1)\n",
    "series_before = pd.Series([variance_inflation_factor(X1.values, i) \n",
    "                           for i in range(X1.shape[1])],  # i=0,1,2,...8\n",
    "                          index=X1.columns)  # column name\n",
    "series_before"
   ]
  },
  {
   "cell_type": "markdown",
   "id": "376a52a6-9f87-4727-a40f-85777bc9d782",
   "metadata": {},
   "source": [
    "## Multi- colinearity is Present in Dataset"
   ]
  },
  {
   "cell_type": "markdown",
   "id": "07727ffd-9571-405d-9921-133687fbd115",
   "metadata": {},
   "source": [
    "## Model Builiding"
   ]
  },
  {
   "cell_type": "markdown",
   "id": "707a63ce-4233-4ede-a260-35afd8b5ba07",
   "metadata": {},
   "source": [
    "## Method - Variable selection method"
   ]
  },
  {
   "cell_type": "code",
   "execution_count": 41,
   "id": "2006290f-b21d-4d1a-bfc8-da8a7b6d77b3",
   "metadata": {},
   "outputs": [],
   "source": [
    "from sklearn.feature_selection import SequentialFeatureSelector as sfs\n",
    "from sklearn.linear_model import LinearRegression"
   ]
  },
  {
   "cell_type": "code",
   "execution_count": 42,
   "id": "672851d0-8a0d-49ef-8114-9353cc93ed3b",
   "metadata": {},
   "outputs": [],
   "source": [
    "lreg = LinearRegression()"
   ]
  },
  {
   "cell_type": "code",
   "execution_count": 43,
   "id": "c069c181-5ad1-4352-9319-1cc92245c347",
   "metadata": {},
   "outputs": [
    {
     "data": {
      "text/html": [
       "<style>#sk-container-id-2 {color: black;background-color: white;}#sk-container-id-2 pre{padding: 0;}#sk-container-id-2 div.sk-toggleable {background-color: white;}#sk-container-id-2 label.sk-toggleable__label {cursor: pointer;display: block;width: 100%;margin-bottom: 0;padding: 0.3em;box-sizing: border-box;text-align: center;}#sk-container-id-2 label.sk-toggleable__label-arrow:before {content: \"▸\";float: left;margin-right: 0.25em;color: #696969;}#sk-container-id-2 label.sk-toggleable__label-arrow:hover:before {color: black;}#sk-container-id-2 div.sk-estimator:hover label.sk-toggleable__label-arrow:before {color: black;}#sk-container-id-2 div.sk-toggleable__content {max-height: 0;max-width: 0;overflow: hidden;text-align: left;background-color: #f0f8ff;}#sk-container-id-2 div.sk-toggleable__content pre {margin: 0.2em;color: black;border-radius: 0.25em;background-color: #f0f8ff;}#sk-container-id-2 input.sk-toggleable__control:checked~div.sk-toggleable__content {max-height: 200px;max-width: 100%;overflow: auto;}#sk-container-id-2 input.sk-toggleable__control:checked~label.sk-toggleable__label-arrow:before {content: \"▾\";}#sk-container-id-2 div.sk-estimator input.sk-toggleable__control:checked~label.sk-toggleable__label {background-color: #d4ebff;}#sk-container-id-2 div.sk-label input.sk-toggleable__control:checked~label.sk-toggleable__label {background-color: #d4ebff;}#sk-container-id-2 input.sk-hidden--visually {border: 0;clip: rect(1px 1px 1px 1px);clip: rect(1px, 1px, 1px, 1px);height: 1px;margin: -1px;overflow: hidden;padding: 0;position: absolute;width: 1px;}#sk-container-id-2 div.sk-estimator {font-family: monospace;background-color: #f0f8ff;border: 1px dotted black;border-radius: 0.25em;box-sizing: border-box;margin-bottom: 0.5em;}#sk-container-id-2 div.sk-estimator:hover {background-color: #d4ebff;}#sk-container-id-2 div.sk-parallel-item::after {content: \"\";width: 100%;border-bottom: 1px solid gray;flex-grow: 1;}#sk-container-id-2 div.sk-label:hover label.sk-toggleable__label {background-color: #d4ebff;}#sk-container-id-2 div.sk-serial::before {content: \"\";position: absolute;border-left: 1px solid gray;box-sizing: border-box;top: 0;bottom: 0;left: 50%;z-index: 0;}#sk-container-id-2 div.sk-serial {display: flex;flex-direction: column;align-items: center;background-color: white;padding-right: 0.2em;padding-left: 0.2em;position: relative;}#sk-container-id-2 div.sk-item {position: relative;z-index: 1;}#sk-container-id-2 div.sk-parallel {display: flex;align-items: stretch;justify-content: center;background-color: white;position: relative;}#sk-container-id-2 div.sk-item::before, #sk-container-id-2 div.sk-parallel-item::before {content: \"\";position: absolute;border-left: 1px solid gray;box-sizing: border-box;top: 0;bottom: 0;left: 50%;z-index: -1;}#sk-container-id-2 div.sk-parallel-item {display: flex;flex-direction: column;z-index: 1;position: relative;background-color: white;}#sk-container-id-2 div.sk-parallel-item:first-child::after {align-self: flex-end;width: 50%;}#sk-container-id-2 div.sk-parallel-item:last-child::after {align-self: flex-start;width: 50%;}#sk-container-id-2 div.sk-parallel-item:only-child::after {width: 0;}#sk-container-id-2 div.sk-dashed-wrapped {border: 1px dashed gray;margin: 0 0.4em 0.5em 0.4em;box-sizing: border-box;padding-bottom: 0.4em;background-color: white;}#sk-container-id-2 div.sk-label label {font-family: monospace;font-weight: bold;display: inline-block;line-height: 1.2em;}#sk-container-id-2 div.sk-label-container {text-align: center;}#sk-container-id-2 div.sk-container {/* jupyter's `normalize.less` sets `[hidden] { display: none; }` but bootstrap.min.css set `[hidden] { display: none !important; }` so we also need the `!important` here to be able to override the default hidden behavior on the sphinx rendered scikit-learn.org. See: https://github.com/scikit-learn/scikit-learn/issues/21755 */display: inline-block !important;position: relative;}#sk-container-id-2 div.sk-text-repr-fallback {display: none;}</style><div id=\"sk-container-id-2\" class=\"sk-top-container\"><div class=\"sk-text-repr-fallback\"><pre>SequentialFeatureSelector(estimator=LinearRegression(), n_features_to_select=7,\n",
       "                          scoring=&#x27;r2&#x27;)</pre><b>In a Jupyter environment, please rerun this cell to show the HTML representation or trust the notebook. <br />On GitHub, the HTML representation is unable to render, please try loading this page with nbviewer.org.</b></div><div class=\"sk-container\" hidden><div class=\"sk-item sk-dashed-wrapped\"><div class=\"sk-label-container\"><div class=\"sk-label sk-toggleable\"><input class=\"sk-toggleable__control sk-hidden--visually\" id=\"sk-estimator-id-4\" type=\"checkbox\" ><label for=\"sk-estimator-id-4\" class=\"sk-toggleable__label sk-toggleable__label-arrow\">SequentialFeatureSelector</label><div class=\"sk-toggleable__content\"><pre>SequentialFeatureSelector(estimator=LinearRegression(), n_features_to_select=7,\n",
       "                          scoring=&#x27;r2&#x27;)</pre></div></div></div><div class=\"sk-parallel\"><div class=\"sk-parallel-item\"><div class=\"sk-item\"><div class=\"sk-label-container\"><div class=\"sk-label sk-toggleable\"><input class=\"sk-toggleable__control sk-hidden--visually\" id=\"sk-estimator-id-5\" type=\"checkbox\" ><label for=\"sk-estimator-id-5\" class=\"sk-toggleable__label sk-toggleable__label-arrow\">estimator: LinearRegression</label><div class=\"sk-toggleable__content\"><pre>LinearRegression()</pre></div></div></div><div class=\"sk-serial\"><div class=\"sk-item\"><div class=\"sk-estimator sk-toggleable\"><input class=\"sk-toggleable__control sk-hidden--visually\" id=\"sk-estimator-id-6\" type=\"checkbox\" ><label for=\"sk-estimator-id-6\" class=\"sk-toggleable__label sk-toggleable__label-arrow\">LinearRegression</label><div class=\"sk-toggleable__content\"><pre>LinearRegression()</pre></div></div></div></div></div></div></div></div></div></div>"
      ],
      "text/plain": [
       "SequentialFeatureSelector(estimator=LinearRegression(), n_features_to_select=7,\n",
       "                          scoring='r2')"
      ]
     },
     "execution_count": 43,
     "metadata": {},
     "output_type": "execute_result"
    }
   ],
   "source": [
    "model = sfs(lreg , n_features_to_select= 7, scoring='r2')\n",
    "model.fit(x_train, y_train)"
   ]
  },
  {
   "cell_type": "code",
   "execution_count": 44,
   "id": "ae7e121d-8c5a-4819-bf6d-38e86bd957e0",
   "metadata": {},
   "outputs": [
    {
     "data": {
      "text/plain": [
       "array(['Infant_deaths', 'Alcohol_consumption', 'Hepatitis_B', 'Measles',\n",
       "       'BMI', 'Polio', 'Diphtheria', 'Incidents_HIV'], dtype=object)"
      ]
     },
     "execution_count": 44,
     "metadata": {},
     "output_type": "execute_result"
    }
   ],
   "source": [
    "model.feature_names_in_"
   ]
  },
  {
   "cell_type": "code",
   "execution_count": 45,
   "id": "d88fb533-fdd1-4bb9-95bb-bc83d6349365",
   "metadata": {},
   "outputs": [
    {
     "data": {
      "text/plain": [
       "array(['Infant_deaths', 'Alcohol_consumption', 'Hepatitis_B', 'Measles',\n",
       "       'BMI', 'Polio', 'Incidents_HIV'], dtype=object)"
      ]
     },
     "execution_count": 45,
     "metadata": {},
     "output_type": "execute_result"
    }
   ],
   "source": [
    "model.get_feature_names_out()"
   ]
  },
  {
   "cell_type": "code",
   "execution_count": null,
   "id": "9860fe0f-9c05-412d-ac1e-f28527e44a7c",
   "metadata": {},
   "outputs": [],
   "source": []
  },
  {
   "cell_type": "markdown",
   "id": "3db32827-1bcd-4e21-87b7-16a5e7d06da8",
   "metadata": {},
   "source": [
    "## Method - Sklearn"
   ]
  },
  {
   "cell_type": "code",
   "execution_count": 47,
   "id": "dce5c65e-33f4-4cef-97c9-d0cbd47e8d07",
   "metadata": {},
   "outputs": [
    {
     "data": {
      "text/html": [
       "<div>\n",
       "<style scoped>\n",
       "    .dataframe tbody tr th:only-of-type {\n",
       "        vertical-align: middle;\n",
       "    }\n",
       "\n",
       "    .dataframe tbody tr th {\n",
       "        vertical-align: top;\n",
       "    }\n",
       "\n",
       "    .dataframe thead th {\n",
       "        text-align: right;\n",
       "    }\n",
       "</style>\n",
       "<table border=\"1\" class=\"dataframe\">\n",
       "  <thead>\n",
       "    <tr style=\"text-align: right;\">\n",
       "      <th></th>\n",
       "      <th>Infant_deaths</th>\n",
       "      <th>Alcohol_consumption</th>\n",
       "      <th>Hepatitis_B</th>\n",
       "      <th>Measles</th>\n",
       "      <th>BMI</th>\n",
       "      <th>Polio</th>\n",
       "      <th>Incidents_HIV</th>\n",
       "    </tr>\n",
       "  </thead>\n",
       "  <tbody>\n",
       "    <tr>\n",
       "      <th>132</th>\n",
       "      <td>12.90625</td>\n",
       "      <td>10.583750</td>\n",
       "      <td>96.875000</td>\n",
       "      <td>92.875</td>\n",
       "      <td>25.71875</td>\n",
       "      <td>94.750000</td>\n",
       "      <td>0.043125</td>\n",
       "    </tr>\n",
       "    <tr>\n",
       "      <th>147</th>\n",
       "      <td>40.80625</td>\n",
       "      <td>7.313125</td>\n",
       "      <td>75.437500</td>\n",
       "      <td>53.625</td>\n",
       "      <td>26.72500</td>\n",
       "      <td>75.062500</td>\n",
       "      <td>1.170625</td>\n",
       "    </tr>\n",
       "    <tr>\n",
       "      <th>146</th>\n",
       "      <td>98.25625</td>\n",
       "      <td>0.000025</td>\n",
       "      <td>53.984375</td>\n",
       "      <td>64.000</td>\n",
       "      <td>22.62500</td>\n",
       "      <td>57.234375</td>\n",
       "      <td>0.130000</td>\n",
       "    </tr>\n",
       "    <tr>\n",
       "      <th>130</th>\n",
       "      <td>3.63750</td>\n",
       "      <td>11.413125</td>\n",
       "      <td>91.562500</td>\n",
       "      <td>85.000</td>\n",
       "      <td>25.72500</td>\n",
       "      <td>96.500000</td>\n",
       "      <td>0.172500</td>\n",
       "    </tr>\n",
       "    <tr>\n",
       "      <th>37</th>\n",
       "      <td>89.48125</td>\n",
       "      <td>3.206250</td>\n",
       "      <td>70.875000</td>\n",
       "      <td>64.000</td>\n",
       "      <td>21.34375</td>\n",
       "      <td>62.937500</td>\n",
       "      <td>0.673125</td>\n",
       "    </tr>\n",
       "  </tbody>\n",
       "</table>\n",
       "</div>"
      ],
      "text/plain": [
       "     Infant_deaths  Alcohol_consumption  Hepatitis_B  Measles       BMI  \\\n",
       "132       12.90625            10.583750    96.875000   92.875  25.71875   \n",
       "147       40.80625             7.313125    75.437500   53.625  26.72500   \n",
       "146       98.25625             0.000025    53.984375   64.000  22.62500   \n",
       "130        3.63750            11.413125    91.562500   85.000  25.72500   \n",
       "37        89.48125             3.206250    70.875000   64.000  21.34375   \n",
       "\n",
       "         Polio  Incidents_HIV  \n",
       "132  94.750000       0.043125  \n",
       "147  75.062500       1.170625  \n",
       "146  57.234375       0.130000  \n",
       "130  96.500000       0.172500  \n",
       "37   62.937500       0.673125  "
      ]
     },
     "execution_count": 47,
     "metadata": {},
     "output_type": "execute_result"
    }
   ],
   "source": [
    "x_train = x_train.loc[:,['Infant_deaths', 'Alcohol_consumption', 'Hepatitis_B', 'Measles',\n",
    "       'BMI', 'Polio', 'Incidents_HIV']]\n",
    "x_train.head()"
   ]
  },
  {
   "cell_type": "code",
   "execution_count": 48,
   "id": "143a07d1-8256-4cc2-b29a-5e3874fd5086",
   "metadata": {},
   "outputs": [
    {
     "data": {
      "text/html": [
       "<div>\n",
       "<style scoped>\n",
       "    .dataframe tbody tr th:only-of-type {\n",
       "        vertical-align: middle;\n",
       "    }\n",
       "\n",
       "    .dataframe tbody tr th {\n",
       "        vertical-align: top;\n",
       "    }\n",
       "\n",
       "    .dataframe thead th {\n",
       "        text-align: right;\n",
       "    }\n",
       "</style>\n",
       "<table border=\"1\" class=\"dataframe\">\n",
       "  <thead>\n",
       "    <tr style=\"text-align: right;\">\n",
       "      <th></th>\n",
       "      <th>Infant_deaths</th>\n",
       "      <th>Alcohol_consumption</th>\n",
       "      <th>Hepatitis_B</th>\n",
       "      <th>Measles</th>\n",
       "      <th>BMI</th>\n",
       "      <th>Polio</th>\n",
       "      <th>Incidents_HIV</th>\n",
       "      <th>Life_expectancy</th>\n",
       "    </tr>\n",
       "  </thead>\n",
       "  <tbody>\n",
       "    <tr>\n",
       "      <th>132</th>\n",
       "      <td>12.90625</td>\n",
       "      <td>10.583750</td>\n",
       "      <td>96.875000</td>\n",
       "      <td>92.875</td>\n",
       "      <td>25.71875</td>\n",
       "      <td>94.750000</td>\n",
       "      <td>0.043125</td>\n",
       "      <td>72.88125</td>\n",
       "    </tr>\n",
       "    <tr>\n",
       "      <th>147</th>\n",
       "      <td>40.80625</td>\n",
       "      <td>7.313125</td>\n",
       "      <td>75.437500</td>\n",
       "      <td>53.625</td>\n",
       "      <td>26.72500</td>\n",
       "      <td>75.062500</td>\n",
       "      <td>1.170625</td>\n",
       "      <td>56.78125</td>\n",
       "    </tr>\n",
       "    <tr>\n",
       "      <th>146</th>\n",
       "      <td>98.25625</td>\n",
       "      <td>0.000025</td>\n",
       "      <td>53.984375</td>\n",
       "      <td>64.000</td>\n",
       "      <td>22.62500</td>\n",
       "      <td>57.234375</td>\n",
       "      <td>0.130000</td>\n",
       "      <td>53.24375</td>\n",
       "    </tr>\n",
       "    <tr>\n",
       "      <th>130</th>\n",
       "      <td>3.63750</td>\n",
       "      <td>11.413125</td>\n",
       "      <td>91.562500</td>\n",
       "      <td>85.000</td>\n",
       "      <td>25.72500</td>\n",
       "      <td>96.500000</td>\n",
       "      <td>0.172500</td>\n",
       "      <td>78.74375</td>\n",
       "    </tr>\n",
       "    <tr>\n",
       "      <th>37</th>\n",
       "      <td>89.48125</td>\n",
       "      <td>3.206250</td>\n",
       "      <td>70.875000</td>\n",
       "      <td>64.000</td>\n",
       "      <td>21.34375</td>\n",
       "      <td>62.937500</td>\n",
       "      <td>0.673125</td>\n",
       "      <td>55.06875</td>\n",
       "    </tr>\n",
       "  </tbody>\n",
       "</table>\n",
       "</div>"
      ],
      "text/plain": [
       "     Infant_deaths  Alcohol_consumption  Hepatitis_B  Measles       BMI  \\\n",
       "132       12.90625            10.583750    96.875000   92.875  25.71875   \n",
       "147       40.80625             7.313125    75.437500   53.625  26.72500   \n",
       "146       98.25625             0.000025    53.984375   64.000  22.62500   \n",
       "130        3.63750            11.413125    91.562500   85.000  25.72500   \n",
       "37        89.48125             3.206250    70.875000   64.000  21.34375   \n",
       "\n",
       "         Polio  Incidents_HIV  Life_expectancy  \n",
       "132  94.750000       0.043125         72.88125  \n",
       "147  75.062500       1.170625         56.78125  \n",
       "146  57.234375       0.130000         53.24375  \n",
       "130  96.500000       0.172500         78.74375  \n",
       "37   62.937500       0.673125         55.06875  "
      ]
     },
     "execution_count": 48,
     "metadata": {},
     "output_type": "execute_result"
    }
   ],
   "source": [
    "train = pd.concat([x_train, y_train], axis = 1)\n",
    "train.head()"
   ]
  },
  {
   "cell_type": "code",
   "execution_count": 49,
   "id": "e5b5c5e7-e1c0-4af3-923b-2f67579834ac",
   "metadata": {},
   "outputs": [],
   "source": [
    "model3 = LinearRegression()"
   ]
  },
  {
   "cell_type": "code",
   "execution_count": 50,
   "id": "3fda723e-273a-4872-84c8-1798bc30e9ab",
   "metadata": {},
   "outputs": [
    {
     "data": {
      "text/html": [
       "<style>#sk-container-id-3 {color: black;background-color: white;}#sk-container-id-3 pre{padding: 0;}#sk-container-id-3 div.sk-toggleable {background-color: white;}#sk-container-id-3 label.sk-toggleable__label {cursor: pointer;display: block;width: 100%;margin-bottom: 0;padding: 0.3em;box-sizing: border-box;text-align: center;}#sk-container-id-3 label.sk-toggleable__label-arrow:before {content: \"▸\";float: left;margin-right: 0.25em;color: #696969;}#sk-container-id-3 label.sk-toggleable__label-arrow:hover:before {color: black;}#sk-container-id-3 div.sk-estimator:hover label.sk-toggleable__label-arrow:before {color: black;}#sk-container-id-3 div.sk-toggleable__content {max-height: 0;max-width: 0;overflow: hidden;text-align: left;background-color: #f0f8ff;}#sk-container-id-3 div.sk-toggleable__content pre {margin: 0.2em;color: black;border-radius: 0.25em;background-color: #f0f8ff;}#sk-container-id-3 input.sk-toggleable__control:checked~div.sk-toggleable__content {max-height: 200px;max-width: 100%;overflow: auto;}#sk-container-id-3 input.sk-toggleable__control:checked~label.sk-toggleable__label-arrow:before {content: \"▾\";}#sk-container-id-3 div.sk-estimator input.sk-toggleable__control:checked~label.sk-toggleable__label {background-color: #d4ebff;}#sk-container-id-3 div.sk-label input.sk-toggleable__control:checked~label.sk-toggleable__label {background-color: #d4ebff;}#sk-container-id-3 input.sk-hidden--visually {border: 0;clip: rect(1px 1px 1px 1px);clip: rect(1px, 1px, 1px, 1px);height: 1px;margin: -1px;overflow: hidden;padding: 0;position: absolute;width: 1px;}#sk-container-id-3 div.sk-estimator {font-family: monospace;background-color: #f0f8ff;border: 1px dotted black;border-radius: 0.25em;box-sizing: border-box;margin-bottom: 0.5em;}#sk-container-id-3 div.sk-estimator:hover {background-color: #d4ebff;}#sk-container-id-3 div.sk-parallel-item::after {content: \"\";width: 100%;border-bottom: 1px solid gray;flex-grow: 1;}#sk-container-id-3 div.sk-label:hover label.sk-toggleable__label {background-color: #d4ebff;}#sk-container-id-3 div.sk-serial::before {content: \"\";position: absolute;border-left: 1px solid gray;box-sizing: border-box;top: 0;bottom: 0;left: 50%;z-index: 0;}#sk-container-id-3 div.sk-serial {display: flex;flex-direction: column;align-items: center;background-color: white;padding-right: 0.2em;padding-left: 0.2em;position: relative;}#sk-container-id-3 div.sk-item {position: relative;z-index: 1;}#sk-container-id-3 div.sk-parallel {display: flex;align-items: stretch;justify-content: center;background-color: white;position: relative;}#sk-container-id-3 div.sk-item::before, #sk-container-id-3 div.sk-parallel-item::before {content: \"\";position: absolute;border-left: 1px solid gray;box-sizing: border-box;top: 0;bottom: 0;left: 50%;z-index: -1;}#sk-container-id-3 div.sk-parallel-item {display: flex;flex-direction: column;z-index: 1;position: relative;background-color: white;}#sk-container-id-3 div.sk-parallel-item:first-child::after {align-self: flex-end;width: 50%;}#sk-container-id-3 div.sk-parallel-item:last-child::after {align-self: flex-start;width: 50%;}#sk-container-id-3 div.sk-parallel-item:only-child::after {width: 0;}#sk-container-id-3 div.sk-dashed-wrapped {border: 1px dashed gray;margin: 0 0.4em 0.5em 0.4em;box-sizing: border-box;padding-bottom: 0.4em;background-color: white;}#sk-container-id-3 div.sk-label label {font-family: monospace;font-weight: bold;display: inline-block;line-height: 1.2em;}#sk-container-id-3 div.sk-label-container {text-align: center;}#sk-container-id-3 div.sk-container {/* jupyter's `normalize.less` sets `[hidden] { display: none; }` but bootstrap.min.css set `[hidden] { display: none !important; }` so we also need the `!important` here to be able to override the default hidden behavior on the sphinx rendered scikit-learn.org. See: https://github.com/scikit-learn/scikit-learn/issues/21755 */display: inline-block !important;position: relative;}#sk-container-id-3 div.sk-text-repr-fallback {display: none;}</style><div id=\"sk-container-id-3\" class=\"sk-top-container\"><div class=\"sk-text-repr-fallback\"><pre>LinearRegression()</pre><b>In a Jupyter environment, please rerun this cell to show the HTML representation or trust the notebook. <br />On GitHub, the HTML representation is unable to render, please try loading this page with nbviewer.org.</b></div><div class=\"sk-container\" hidden><div class=\"sk-item\"><div class=\"sk-estimator sk-toggleable\"><input class=\"sk-toggleable__control sk-hidden--visually\" id=\"sk-estimator-id-7\" type=\"checkbox\" checked><label for=\"sk-estimator-id-7\" class=\"sk-toggleable__label sk-toggleable__label-arrow\">LinearRegression</label><div class=\"sk-toggleable__content\"><pre>LinearRegression()</pre></div></div></div></div></div>"
      ],
      "text/plain": [
       "LinearRegression()"
      ]
     },
     "execution_count": 50,
     "metadata": {},
     "output_type": "execute_result"
    }
   ],
   "source": [
    "model3.fit(x_train, y_train)"
   ]
  },
  {
   "cell_type": "code",
   "execution_count": 52,
   "id": "9f948b73-1fd8-4035-8bf4-e1f1a64a3130",
   "metadata": {},
   "outputs": [
    {
     "data": {
      "text/plain": [
       "array([85.74])"
      ]
     },
     "execution_count": 52,
     "metadata": {},
     "output_type": "execute_result"
    }
   ],
   "source": [
    "np.round(model3.intercept_,2)    # B0"
   ]
  },
  {
   "cell_type": "code",
   "execution_count": 53,
   "id": "63e5bbc9-b25e-491d-8a35-de1189ad55c5",
   "metadata": {},
   "outputs": [
    {
     "data": {
      "text/plain": [
       "array([[-0.272,  0.072, -0.041,  0.009, -0.101, -0.017, -6.229]])"
      ]
     },
     "execution_count": 53,
     "metadata": {},
     "output_type": "execute_result"
    }
   ],
   "source": [
    "np.round(model3.coef_,3)    # B1"
   ]
  },
  {
   "cell_type": "code",
   "execution_count": 54,
   "id": "de06cd4f-64e4-4c7c-849c-00a7d5fb3884",
   "metadata": {},
   "outputs": [
    {
     "data": {
      "text/plain": [
       "array(['Infant_deaths', 'Alcohol_consumption', 'Hepatitis_B', 'Measles',\n",
       "       'BMI', 'Polio', 'Incidents_HIV'], dtype=object)"
      ]
     },
     "execution_count": 54,
     "metadata": {},
     "output_type": "execute_result"
    }
   ],
   "source": [
    "model3.feature_names_in_"
   ]
  },
  {
   "cell_type": "code",
   "execution_count": null,
   "id": "f4e37fe0-9208-4996-9595-e2998221a16a",
   "metadata": {},
   "outputs": [],
   "source": []
  },
  {
   "cell_type": "markdown",
   "id": "3c6594bb-aaa8-4056-af9e-b96425faab4a",
   "metadata": {},
   "source": [
    "## Prediction on train"
   ]
  },
  {
   "cell_type": "code",
   "execution_count": 56,
   "id": "ea93d9c6-d603-48cd-90c7-1395dc0b4b2d",
   "metadata": {},
   "outputs": [],
   "source": [
    "train['fitted'] = np.round(model3.predict(x_train),2)"
   ]
  },
  {
   "cell_type": "code",
   "execution_count": 58,
   "id": "8af03695-710a-46f6-b012-b3b2cbbc2647",
   "metadata": {},
   "outputs": [],
   "source": [
    "train['residual'] = np.round(train.Life_expectancy - train.fitted,2)"
   ]
  },
  {
   "cell_type": "code",
   "execution_count": 59,
   "id": "618b742d-e8f9-4bcd-9ce8-508c2e1119f7",
   "metadata": {},
   "outputs": [
    {
     "data": {
      "text/html": [
       "<div>\n",
       "<style scoped>\n",
       "    .dataframe tbody tr th:only-of-type {\n",
       "        vertical-align: middle;\n",
       "    }\n",
       "\n",
       "    .dataframe tbody tr th {\n",
       "        vertical-align: top;\n",
       "    }\n",
       "\n",
       "    .dataframe thead th {\n",
       "        text-align: right;\n",
       "    }\n",
       "</style>\n",
       "<table border=\"1\" class=\"dataframe\">\n",
       "  <thead>\n",
       "    <tr style=\"text-align: right;\">\n",
       "      <th></th>\n",
       "      <th>Infant_deaths</th>\n",
       "      <th>Alcohol_consumption</th>\n",
       "      <th>Hepatitis_B</th>\n",
       "      <th>Measles</th>\n",
       "      <th>BMI</th>\n",
       "      <th>Polio</th>\n",
       "      <th>Incidents_HIV</th>\n",
       "      <th>Life_expectancy</th>\n",
       "      <th>fitted</th>\n",
       "      <th>residual</th>\n",
       "    </tr>\n",
       "  </thead>\n",
       "  <tbody>\n",
       "    <tr>\n",
       "      <th>132</th>\n",
       "      <td>12.90625</td>\n",
       "      <td>10.583750</td>\n",
       "      <td>96.875000</td>\n",
       "      <td>92.875</td>\n",
       "      <td>25.71875</td>\n",
       "      <td>94.750000</td>\n",
       "      <td>0.043125</td>\n",
       "      <td>72.88125</td>\n",
       "      <td>75.36</td>\n",
       "      <td>-2.48</td>\n",
       "    </tr>\n",
       "    <tr>\n",
       "      <th>147</th>\n",
       "      <td>40.80625</td>\n",
       "      <td>7.313125</td>\n",
       "      <td>75.437500</td>\n",
       "      <td>53.625</td>\n",
       "      <td>26.72500</td>\n",
       "      <td>75.062500</td>\n",
       "      <td>1.170625</td>\n",
       "      <td>56.78125</td>\n",
       "      <td>61.28</td>\n",
       "      <td>-4.50</td>\n",
       "    </tr>\n",
       "    <tr>\n",
       "      <th>146</th>\n",
       "      <td>98.25625</td>\n",
       "      <td>0.000025</td>\n",
       "      <td>53.984375</td>\n",
       "      <td>64.000</td>\n",
       "      <td>22.62500</td>\n",
       "      <td>57.234375</td>\n",
       "      <td>0.130000</td>\n",
       "      <td>53.24375</td>\n",
       "      <td>53.35</td>\n",
       "      <td>-0.11</td>\n",
       "    </tr>\n",
       "    <tr>\n",
       "      <th>130</th>\n",
       "      <td>3.63750</td>\n",
       "      <td>11.413125</td>\n",
       "      <td>91.562500</td>\n",
       "      <td>85.000</td>\n",
       "      <td>25.72500</td>\n",
       "      <td>96.500000</td>\n",
       "      <td>0.172500</td>\n",
       "      <td>78.74375</td>\n",
       "      <td>77.25</td>\n",
       "      <td>1.49</td>\n",
       "    </tr>\n",
       "    <tr>\n",
       "      <th>37</th>\n",
       "      <td>89.48125</td>\n",
       "      <td>3.206250</td>\n",
       "      <td>70.875000</td>\n",
       "      <td>64.000</td>\n",
       "      <td>21.34375</td>\n",
       "      <td>62.937500</td>\n",
       "      <td>0.673125</td>\n",
       "      <td>55.06875</td>\n",
       "      <td>51.91</td>\n",
       "      <td>3.16</td>\n",
       "    </tr>\n",
       "  </tbody>\n",
       "</table>\n",
       "</div>"
      ],
      "text/plain": [
       "     Infant_deaths  Alcohol_consumption  Hepatitis_B  Measles       BMI  \\\n",
       "132       12.90625            10.583750    96.875000   92.875  25.71875   \n",
       "147       40.80625             7.313125    75.437500   53.625  26.72500   \n",
       "146       98.25625             0.000025    53.984375   64.000  22.62500   \n",
       "130        3.63750            11.413125    91.562500   85.000  25.72500   \n",
       "37        89.48125             3.206250    70.875000   64.000  21.34375   \n",
       "\n",
       "         Polio  Incidents_HIV  Life_expectancy  fitted  residual  \n",
       "132  94.750000       0.043125         72.88125   75.36     -2.48  \n",
       "147  75.062500       1.170625         56.78125   61.28     -4.50  \n",
       "146  57.234375       0.130000         53.24375   53.35     -0.11  \n",
       "130  96.500000       0.172500         78.74375   77.25      1.49  \n",
       "37   62.937500       0.673125         55.06875   51.91      3.16  "
      ]
     },
     "execution_count": 59,
     "metadata": {},
     "output_type": "execute_result"
    }
   ],
   "source": [
    "train.head()"
   ]
  },
  {
   "cell_type": "code",
   "execution_count": 60,
   "id": "79e3f4a0-4a55-45f3-91bf-6fb7bbcfedf1",
   "metadata": {},
   "outputs": [],
   "source": [
    "from sklearn.metrics import r2_score"
   ]
  },
  {
   "cell_type": "code",
   "execution_count": 61,
   "id": "bcc526b1-f007-45b6-ae66-fb9bf0a948f5",
   "metadata": {},
   "outputs": [],
   "source": [
    "r2 = r2_score(train.Life_expectancy , train.fitted)"
   ]
  },
  {
   "cell_type": "code",
   "execution_count": 65,
   "id": "4752728a-1d75-4478-9eec-1a4355f077d8",
   "metadata": {},
   "outputs": [
    {
     "name": "stdout",
     "output_type": "stream",
     "text": [
      "R-Squared score for model Performance on Train :  91.0\n"
     ]
    }
   ],
   "source": [
    "print('R-Squared score for model Performance on Train : ', np.round(r2,2)*100)"
   ]
  },
  {
   "cell_type": "code",
   "execution_count": 85,
   "id": "82af357c-1322-41c3-9db5-cbd98a435f8f",
   "metadata": {},
   "outputs": [],
   "source": [
    "from sklearn.metrics import mean_squared_error"
   ]
  },
  {
   "cell_type": "code",
   "execution_count": 87,
   "id": "b2c01487-5f38-4c72-b191-a100afe4fb69",
   "metadata": {},
   "outputs": [
    {
     "data": {
      "text/plain": [
       "2.791176685109704"
      ]
     },
     "execution_count": 87,
     "metadata": {},
     "output_type": "execute_result"
    }
   ],
   "source": [
    "model_mse= mean_squared_error(train['Life_expectancy'], train['fitted'])\n",
    "model_rmse = np.sqrt(model_mse)\n",
    "model_rmse"
   ]
  },
  {
   "cell_type": "code",
   "execution_count": null,
   "id": "0612d815-781e-430e-b828-48ff28c3010c",
   "metadata": {},
   "outputs": [],
   "source": []
  },
  {
   "cell_type": "markdown",
   "id": "e9dc90f0-3221-444c-a17f-cee47edc8456",
   "metadata": {},
   "source": [
    "## Assumption of Linear Regression"
   ]
  },
  {
   "cell_type": "markdown",
   "id": "d880af87-c084-4dd9-9254-3af2e20b2001",
   "metadata": {},
   "source": [
    "### 1.Linearity"
   ]
  },
  {
   "cell_type": "code",
   "execution_count": 103,
   "id": "f5b0fb6f-9901-4550-b234-22dff3ae99c0",
   "metadata": {},
   "outputs": [
    {
     "data": {
      "text/plain": [
       "<Axes: xlabel='Hepatitis_B', ylabel='Life_expectancy'>"
      ]
     },
     "execution_count": 103,
     "metadata": {},
     "output_type": "execute_result"
    },
    {
     "data": {
      "image/png": "[encoded data removed]",
      "text/plain": [
       "<Figure size 640x480 with 1 Axes>"
      ]
     },
     "metadata": {},
     "output_type": "display_data"
    }
   ],
   "source": [
    "sns.scatterplot(x='Hepatitis_B', y = 'Life_expectancy', data = train )"
   ]
  },
  {
   "cell_type": "code",
   "execution_count": null,
   "id": "9d1f828e-c338-46e5-a982-cef6df996c39",
   "metadata": {},
   "outputs": [],
   "source": []
  },
  {
   "cell_type": "code",
   "execution_count": 71,
   "id": "0c106a58-b45b-48c8-9419-12c18bb66a54",
   "metadata": {},
   "outputs": [
    {
     "data": {
      "text/plain": [
       "<Axes: xlabel='fitted', ylabel='residual'>"
      ]
     },
     "execution_count": 71,
     "metadata": {},
     "output_type": "execute_result"
    },
    {
     "data": {
      "image/png": "[encoded data removed]",
      "text/plain": [
       "<Figure size 640x480 with 1 Axes>"
      ]
     },
     "metadata": {},
     "output_type": "display_data"
    }
   ],
   "source": [
    "sns.scatterplot(x='fitted', y='residual',data=train)"
   ]
  },
  {
   "cell_type": "code",
   "execution_count": null,
   "id": "9c5c95f2-64c8-4452-87cf-3c9f656874e3",
   "metadata": {},
   "outputs": [],
   "source": []
  },
  {
   "cell_type": "code",
   "execution_count": 73,
   "id": "a7aeb40e-bfa7-4fc8-b467-84db5024b5ac",
   "metadata": {},
   "outputs": [
    {
     "data": {
      "image/png": "[encoded data removed]",
      "text/plain": [
       "<Figure size 640x480 with 1 Axes>"
      ]
     },
     "metadata": {},
     "output_type": "display_data"
    }
   ],
   "source": [
    "import statsmodels.api as sm\n",
    "from matplotlib import pyplot as plt\n",
    "\n",
    "fig = sm.qqplot(train['residual'], fit=True, line='s') # s indicate standardized line\n",
    "plt.show()"
   ]
  },
  {
   "cell_type": "code",
   "execution_count": null,
   "id": "d4814a6e-1032-4adc-a0c8-17a0fde2b8bc",
   "metadata": {},
   "outputs": [],
   "source": []
  },
  {
   "cell_type": "code",
   "execution_count": 84,
   "id": "0a7af5fd-1f7b-4088-9786-f0636062c5d4",
   "metadata": {},
   "outputs": [
    {
     "name": "stderr",
     "output_type": "stream",
     "text": [
      "C:\\Users\\rajat\\anaconda3\\Lib\\site-packages\\seaborn\\_oldcore.py:1119: FutureWarning: use_inf_as_na option is deprecated and will be removed in a future version. Convert inf values to NaN before operating instead.\n",
      "  with pd.option_context('mode.use_inf_as_na', True):\n"
     ]
    },
    {
     "data": {
      "text/plain": [
       "<Axes: xlabel='residual', ylabel='Count'>"
      ]
     },
     "execution_count": 84,
     "metadata": {},
     "output_type": "execute_result"
    },
    {
     "data": {
      "image/png": "[encoded data removed]",
      "text/plain": [
       "<Figure size 640x480 with 1 Axes>"
      ]
     },
     "metadata": {},
     "output_type": "display_data"
    }
   ],
   "source": [
    "sns.histplot(x ='residual', data = train, kde= True)"
   ]
  },
  {
   "cell_type": "code",
   "execution_count": null,
   "id": "0958d1b1-8180-4cf1-8ae2-29054bf8941e",
   "metadata": {},
   "outputs": [],
   "source": []
  },
  {
   "cell_type": "markdown",
   "id": "06e4ece0-930e-4ebc-9bc1-e4a6b55fedc6",
   "metadata": {},
   "source": [
    "## Prediction on Test"
   ]
  },
  {
   "cell_type": "code",
   "execution_count": 88,
   "id": "6dedd49c-92bc-4e47-81fc-bc341c9244d0",
   "metadata": {},
   "outputs": [
    {
     "data": {
      "text/plain": [
       "array(['Infant_deaths', 'Alcohol_consumption', 'Hepatitis_B', 'Measles',\n",
       "       'BMI', 'Polio', 'Incidents_HIV'], dtype=object)"
      ]
     },
     "execution_count": 88,
     "metadata": {},
     "output_type": "execute_result"
    }
   ],
   "source": [
    "model3.feature_names_in_"
   ]
  },
  {
   "cell_type": "code",
   "execution_count": 89,
   "id": "13a277a0-8700-4e93-a63b-1ea1d26da8fe",
   "metadata": {},
   "outputs": [],
   "source": [
    "x_test = x_test.loc[:,['Infant_deaths', 'Alcohol_consumption', 'Hepatitis_B', 'Measles',\n",
    "       'BMI', 'Polio', 'Incidents_HIV']]"
   ]
  },
  {
   "cell_type": "code",
   "execution_count": 90,
   "id": "4a31521d-3545-4c52-98ce-2e6d2411a841",
   "metadata": {},
   "outputs": [
    {
     "data": {
      "text/html": [
       "<div>\n",
       "<style scoped>\n",
       "    .dataframe tbody tr th:only-of-type {\n",
       "        vertical-align: middle;\n",
       "    }\n",
       "\n",
       "    .dataframe tbody tr th {\n",
       "        vertical-align: top;\n",
       "    }\n",
       "\n",
       "    .dataframe thead th {\n",
       "        text-align: right;\n",
       "    }\n",
       "</style>\n",
       "<table border=\"1\" class=\"dataframe\">\n",
       "  <thead>\n",
       "    <tr style=\"text-align: right;\">\n",
       "      <th></th>\n",
       "      <th>Infant_deaths</th>\n",
       "      <th>Alcohol_consumption</th>\n",
       "      <th>Hepatitis_B</th>\n",
       "      <th>Measles</th>\n",
       "      <th>BMI</th>\n",
       "      <th>Polio</th>\n",
       "      <th>Incidents_HIV</th>\n",
       "      <th>Life_expectancy</th>\n",
       "    </tr>\n",
       "  </thead>\n",
       "  <tbody>\n",
       "    <tr>\n",
       "      <th>112</th>\n",
       "      <td>53.80000</td>\n",
       "      <td>0.799375</td>\n",
       "      <td>75.6250</td>\n",
       "      <td>68.9375</td>\n",
       "      <td>21.91250</td>\n",
       "      <td>85.875</td>\n",
       "      <td>0.408750</td>\n",
       "      <td>62.70000</td>\n",
       "    </tr>\n",
       "    <tr>\n",
       "      <th>100</th>\n",
       "      <td>16.68750</td>\n",
       "      <td>1.529375</td>\n",
       "      <td>97.8750</td>\n",
       "      <td>81.5625</td>\n",
       "      <td>24.20000</td>\n",
       "      <td>97.875</td>\n",
       "      <td>0.170000</td>\n",
       "      <td>74.51250</td>\n",
       "    </tr>\n",
       "    <tr>\n",
       "      <th>46</th>\n",
       "      <td>66.98750</td>\n",
       "      <td>0.665625</td>\n",
       "      <td>86.3125</td>\n",
       "      <td>82.0000</td>\n",
       "      <td>23.77500</td>\n",
       "      <td>74.875</td>\n",
       "      <td>0.856250</td>\n",
       "      <td>59.48750</td>\n",
       "    </tr>\n",
       "    <tr>\n",
       "      <th>113</th>\n",
       "      <td>38.98750</td>\n",
       "      <td>2.015000</td>\n",
       "      <td>84.2500</td>\n",
       "      <td>64.0000</td>\n",
       "      <td>23.56875</td>\n",
       "      <td>83.000</td>\n",
       "      <td>1.170625</td>\n",
       "      <td>54.87500</td>\n",
       "    </tr>\n",
       "    <tr>\n",
       "      <th>92</th>\n",
       "      <td>72.21875</td>\n",
       "      <td>2.623750</td>\n",
       "      <td>86.6250</td>\n",
       "      <td>70.4375</td>\n",
       "      <td>24.48750</td>\n",
       "      <td>87.750</td>\n",
       "      <td>1.170625</td>\n",
       "      <td>45.60625</td>\n",
       "    </tr>\n",
       "  </tbody>\n",
       "</table>\n",
       "</div>"
      ],
      "text/plain": [
       "     Infant_deaths  Alcohol_consumption  Hepatitis_B  Measles       BMI  \\\n",
       "112       53.80000             0.799375      75.6250  68.9375  21.91250   \n",
       "100       16.68750             1.529375      97.8750  81.5625  24.20000   \n",
       "46        66.98750             0.665625      86.3125  82.0000  23.77500   \n",
       "113       38.98750             2.015000      84.2500  64.0000  23.56875   \n",
       "92        72.21875             2.623750      86.6250  70.4375  24.48750   \n",
       "\n",
       "      Polio  Incidents_HIV  Life_expectancy  \n",
       "112  85.875       0.408750         62.70000  \n",
       "100  97.875       0.170000         74.51250  \n",
       "46   74.875       0.856250         59.48750  \n",
       "113  83.000       1.170625         54.87500  \n",
       "92   87.750       1.170625         45.60625  "
      ]
     },
     "execution_count": 90,
     "metadata": {},
     "output_type": "execute_result"
    }
   ],
   "source": [
    "test = pd.concat([x_test, y_test], axis = 1)\n",
    "test.head()"
   ]
  },
  {
   "cell_type": "code",
   "execution_count": 92,
   "id": "0775a07f-b740-40c9-839e-265a84b9f97e",
   "metadata": {},
   "outputs": [],
   "source": [
    "test['fitted'] = np.round(model3.predict(x_test),2)"
   ]
  },
  {
   "cell_type": "code",
   "execution_count": 93,
   "id": "9349110a-a04d-4749-a7d8-0812e1ef85a3",
   "metadata": {},
   "outputs": [],
   "source": [
    "test['residual'] = np.round(test.Life_expectancy - test.fitted,2)"
   ]
  },
  {
   "cell_type": "code",
   "execution_count": 94,
   "id": "8b09f166-d9d6-462d-955b-c5b329d8630c",
   "metadata": {},
   "outputs": [
    {
     "data": {
      "text/html": [
       "<div>\n",
       "<style scoped>\n",
       "    .dataframe tbody tr th:only-of-type {\n",
       "        vertical-align: middle;\n",
       "    }\n",
       "\n",
       "    .dataframe tbody tr th {\n",
       "        vertical-align: top;\n",
       "    }\n",
       "\n",
       "    .dataframe thead th {\n",
       "        text-align: right;\n",
       "    }\n",
       "</style>\n",
       "<table border=\"1\" class=\"dataframe\">\n",
       "  <thead>\n",
       "    <tr style=\"text-align: right;\">\n",
       "      <th></th>\n",
       "      <th>Infant_deaths</th>\n",
       "      <th>Alcohol_consumption</th>\n",
       "      <th>Hepatitis_B</th>\n",
       "      <th>Measles</th>\n",
       "      <th>BMI</th>\n",
       "      <th>Polio</th>\n",
       "      <th>Incidents_HIV</th>\n",
       "      <th>Life_expectancy</th>\n",
       "      <th>fitted</th>\n",
       "      <th>residual</th>\n",
       "    </tr>\n",
       "  </thead>\n",
       "  <tbody>\n",
       "    <tr>\n",
       "      <th>112</th>\n",
       "      <td>53.80000</td>\n",
       "      <td>0.799375</td>\n",
       "      <td>75.6250</td>\n",
       "      <td>68.9375</td>\n",
       "      <td>21.91250</td>\n",
       "      <td>85.875</td>\n",
       "      <td>0.408750</td>\n",
       "      <td>62.70000</td>\n",
       "      <td>62.47</td>\n",
       "      <td>0.23</td>\n",
       "    </tr>\n",
       "    <tr>\n",
       "      <th>100</th>\n",
       "      <td>16.68750</td>\n",
       "      <td>1.529375</td>\n",
       "      <td>97.8750</td>\n",
       "      <td>81.5625</td>\n",
       "      <td>24.20000</td>\n",
       "      <td>97.875</td>\n",
       "      <td>0.170000</td>\n",
       "      <td>74.51250</td>\n",
       "      <td>72.85</td>\n",
       "      <td>1.66</td>\n",
       "    </tr>\n",
       "    <tr>\n",
       "      <th>46</th>\n",
       "      <td>66.98750</td>\n",
       "      <td>0.665625</td>\n",
       "      <td>86.3125</td>\n",
       "      <td>82.0000</td>\n",
       "      <td>23.77500</td>\n",
       "      <td>74.875</td>\n",
       "      <td>0.856250</td>\n",
       "      <td>59.48750</td>\n",
       "      <td>55.78</td>\n",
       "      <td>3.71</td>\n",
       "    </tr>\n",
       "    <tr>\n",
       "      <th>113</th>\n",
       "      <td>38.98750</td>\n",
       "      <td>2.015000</td>\n",
       "      <td>84.2500</td>\n",
       "      <td>64.0000</td>\n",
       "      <td>23.56875</td>\n",
       "      <td>83.000</td>\n",
       "      <td>1.170625</td>\n",
       "      <td>54.87500</td>\n",
       "      <td>61.31</td>\n",
       "      <td>-6.44</td>\n",
       "    </tr>\n",
       "    <tr>\n",
       "      <th>92</th>\n",
       "      <td>72.21875</td>\n",
       "      <td>2.623750</td>\n",
       "      <td>86.6250</td>\n",
       "      <td>70.4375</td>\n",
       "      <td>24.48750</td>\n",
       "      <td>87.750</td>\n",
       "      <td>1.170625</td>\n",
       "      <td>45.60625</td>\n",
       "      <td>52.12</td>\n",
       "      <td>-6.51</td>\n",
       "    </tr>\n",
       "  </tbody>\n",
       "</table>\n",
       "</div>"
      ],
      "text/plain": [
       "     Infant_deaths  Alcohol_consumption  Hepatitis_B  Measles       BMI  \\\n",
       "112       53.80000             0.799375      75.6250  68.9375  21.91250   \n",
       "100       16.68750             1.529375      97.8750  81.5625  24.20000   \n",
       "46        66.98750             0.665625      86.3125  82.0000  23.77500   \n",
       "113       38.98750             2.015000      84.2500  64.0000  23.56875   \n",
       "92        72.21875             2.623750      86.6250  70.4375  24.48750   \n",
       "\n",
       "      Polio  Incidents_HIV  Life_expectancy  fitted  residual  \n",
       "112  85.875       0.408750         62.70000   62.47      0.23  \n",
       "100  97.875       0.170000         74.51250   72.85      1.66  \n",
       "46   74.875       0.856250         59.48750   55.78      3.71  \n",
       "113  83.000       1.170625         54.87500   61.31     -6.44  \n",
       "92   87.750       1.170625         45.60625   52.12     -6.51  "
      ]
     },
     "execution_count": 94,
     "metadata": {},
     "output_type": "execute_result"
    }
   ],
   "source": [
    "test.head()"
   ]
  },
  {
   "cell_type": "code",
   "execution_count": 95,
   "id": "34672f6a-43ad-440d-8874-45f918b615a2",
   "metadata": {},
   "outputs": [
    {
     "name": "stdout",
     "output_type": "stream",
     "text": [
      "R-Squared score for model Performance on Test :  91.0\n"
     ]
    }
   ],
   "source": [
    "test_r2 = r2_score(test.Life_expectancy, test.fitted)\n",
    "print('R-Squared score for model Performance on Test : ', np.round(r2,2)*100)"
   ]
  },
  {
   "cell_type": "code",
   "execution_count": 96,
   "id": "aa277203-d016-407b-bd19-812f4593cc8d",
   "metadata": {},
   "outputs": [],
   "source": [
    "test_model_mse = mean_squared_error(test.Life_expectancy, test.fitted)"
   ]
  },
  {
   "cell_type": "code",
   "execution_count": 98,
   "id": "a9279431-49d7-46bc-bc3c-cb39b32d389c",
   "metadata": {},
   "outputs": [
    {
     "name": "stdout",
     "output_type": "stream",
     "text": [
      "RMSE of Test Data :  3.02\n"
     ]
    }
   ],
   "source": [
    "test_model_rmse = np.sqrt(test_model_mse)\n",
    "print(\"RMSE of Test Data : \",np.round(test_model_rmse,2)) #21"
   ]
  },
  {
   "cell_type": "code",
   "execution_count": null,
   "id": "2dc4b3bf-e8bf-47be-b0cb-10d40c129013",
   "metadata": {},
   "outputs": [],
   "source": []
  }
 ],
 "metadata": {
  "kernelspec": {
   "display_name": "Python 3 (ipykernel)",
   "language": "python",
   "name": "python3"
  },
  "language_info": {
   "codemirror_mode": {
    "name": "ipython",
    "version": 3
   },
   "file_extension": ".py",
   "mimetype": "text/x-python",
   "name": "python",
   "nbconvert_exporter": "python",
   "pygments_lexer": "ipython3",
   "version": "3.11.7"
  }
 },
 "nbformat": 4,
 "nbformat_minor": 5
}
